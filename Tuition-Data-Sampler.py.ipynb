{
 "cells": [
  {
   "cell_type": "code",
   "execution_count": 9,
   "metadata": {},
   "outputs": [
    {
     "data": {
      "text/html": [
       "<div>\n",
       "<style scoped>\n",
       "    .dataframe tbody tr th:only-of-type {\n",
       "        vertical-align: middle;\n",
       "    }\n",
       "\n",
       "    .dataframe tbody tr th {\n",
       "        vertical-align: top;\n",
       "    }\n",
       "\n",
       "    .dataframe thead th {\n",
       "        text-align: right;\n",
       "    }\n",
       "</style>\n",
       "<table border=\"1\" class=\"dataframe\">\n",
       "  <thead>\n",
       "    <tr style=\"text-align: right;\">\n",
       "      <th></th>\n",
       "      <th>year</th>\n",
       "      <th>tuition</th>\n",
       "      <th>health_fee</th>\n",
       "      <th>student_fee</th>\n",
       "      <th>room</th>\n",
       "      <th>board</th>\n",
       "      <th>total_cost</th>\n",
       "      <th>growth_rate</th>\n",
       "      <th>inflation_yoy</th>\n",
       "      <th>inflation_by2019</th>\n",
       "      <th>static</th>\n",
       "      <th>adjusted_cost</th>\n",
       "      <th>median_income</th>\n",
       "    </tr>\n",
       "  </thead>\n",
       "  <tbody>\n",
       "    <tr>\n",
       "      <td>0</td>\n",
       "      <td>2020</td>\n",
       "      <td>47730</td>\n",
       "      <td>1206</td>\n",
       "      <td>2989</td>\n",
       "      <td>10927</td>\n",
       "      <td>6755</td>\n",
       "      <td>69607</td>\n",
       "      <td>0.030</td>\n",
       "      <td>1.9</td>\n",
       "      <td>1.019000</td>\n",
       "      <td>1.019000</td>\n",
       "      <td>68309.12659</td>\n",
       "      <td>NaN</td>\n",
       "    </tr>\n",
       "    <tr>\n",
       "      <td>1</td>\n",
       "      <td>2019</td>\n",
       "      <td>46340</td>\n",
       "      <td>1178</td>\n",
       "      <td>2902</td>\n",
       "      <td>10609</td>\n",
       "      <td>6551</td>\n",
       "      <td>67580</td>\n",
       "      <td>0.030</td>\n",
       "      <td>1.5</td>\n",
       "      <td>1.000000</td>\n",
       "      <td>1.000000</td>\n",
       "      <td>67580.00000</td>\n",
       "      <td>64430.0</td>\n",
       "    </tr>\n",
       "    <tr>\n",
       "      <td>2</td>\n",
       "      <td>2018</td>\n",
       "      <td>44990</td>\n",
       "      <td>1142</td>\n",
       "      <td>2817</td>\n",
       "      <td>10300</td>\n",
       "      <td>6360</td>\n",
       "      <td>65609</td>\n",
       "      <td>0.041</td>\n",
       "      <td>1.9</td>\n",
       "      <td>0.985000</td>\n",
       "      <td>0.985000</td>\n",
       "      <td>66608.12183</td>\n",
       "      <td>63179.0</td>\n",
       "    </tr>\n",
       "    <tr>\n",
       "      <td>3</td>\n",
       "      <td>2017</td>\n",
       "      <td>43280</td>\n",
       "      <td>1088</td>\n",
       "      <td>2706</td>\n",
       "      <td>9894</td>\n",
       "      <td>6057</td>\n",
       "      <td>63025</td>\n",
       "      <td>0.039</td>\n",
       "      <td>2.1</td>\n",
       "      <td>0.966285</td>\n",
       "      <td>0.966285</td>\n",
       "      <td>65224.02811</td>\n",
       "      <td>61136.0</td>\n",
       "    </tr>\n",
       "    <tr>\n",
       "      <td>4</td>\n",
       "      <td>2016</td>\n",
       "      <td>41632</td>\n",
       "      <td>1042</td>\n",
       "      <td>2604</td>\n",
       "      <td>9523</td>\n",
       "      <td>5858</td>\n",
       "      <td>60659</td>\n",
       "      <td>0.035</td>\n",
       "      <td>2.1</td>\n",
       "      <td>0.945993</td>\n",
       "      <td>0.945993</td>\n",
       "      <td>64122.03794</td>\n",
       "      <td>59039.0</td>\n",
       "    </tr>\n",
       "  </tbody>\n",
       "</table>\n",
       "</div>"
      ],
      "text/plain": [
       "   year  tuition  health_fee  student_fee   room  board  total_cost  \\\n",
       "0  2020    47730        1206         2989  10927   6755       69607   \n",
       "1  2019    46340        1178         2902  10609   6551       67580   \n",
       "2  2018    44990        1142         2817  10300   6360       65609   \n",
       "3  2017    43280        1088         2706   9894   6057       63025   \n",
       "4  2016    41632        1042         2604   9523   5858       60659   \n",
       "\n",
       "   growth_rate  inflation_yoy  inflation_by2019    static  adjusted_cost  \\\n",
       "0        0.030            1.9          1.019000  1.019000    68309.12659   \n",
       "1        0.030            1.5          1.000000  1.000000    67580.00000   \n",
       "2        0.041            1.9          0.985000  0.985000    66608.12183   \n",
       "3        0.039            2.1          0.966285  0.966285    65224.02811   \n",
       "4        0.035            2.1          0.945993  0.945993    64122.03794   \n",
       "\n",
       "   median_income  \n",
       "0            NaN  \n",
       "1        64430.0  \n",
       "2        63179.0  \n",
       "3        61136.0  \n",
       "4        59039.0  "
      ]
     },
     "execution_count": 9,
     "metadata": {},
     "output_type": "execute_result"
    }
   ],
   "source": [
    "import pandas as pd\n",
    "import numpy as np\n",
    "import matplotlib.pyplot as plt\n",
    "from sklearn.linear_model import LinearRegression\n",
    "\n",
    "dir_path = \"\"\n",
    "tuition_data = pd.read_csv(dir_path + \"Harvard-College-Costs-cleaninflation.csv\")\n",
    "\n",
    "#NEED TO DO: create list of total cost of attendance (adjusted for inflation)\n",
    "#NEED TO DO: perform linear regression on median income per household to predict value for 2020\n",
    "#NEED TO DO: plot total COA per academic year and compare against median income per household\n",
    "\n",
    "#OPTIONAL: create list of total fees (health services + student services)\n",
    "\n",
    "tuition_data.head()"
   ]
  },
  {
   "cell_type": "code",
   "execution_count": 44,
   "metadata": {},
   "outputs": [
    {
     "data": {
      "image/png": "[encoded data removed]",
      "text/plain": [
       "<Figure size 432x288 with 1 Axes>"
      ]
     },
     "metadata": {},
     "output_type": "display_data"
    }
   ],
   "source": [
    "# remove 2020 from the current list of academic years and predict its value via linreg\n",
    "lr = LinearRegression()\n",
    "X = tuition_data.year.values.reshape(-1,1)\n",
    "temp = tuition_data.median_income / tuition_data.inflation_by2019\n",
    "Y = temp.values.reshape(-1,1)\n",
    "lr.fit(X[1:6],Y[1:6])\n",
    "\n",
    "Y_pred = lr.predict(X)\n",
    "plt.scatter(X[1:], Y[1:])\n",
    "plt.plot(X, Y_pred, color='red')\n",
    "plt.show()\n",
    "\n",
    "# add the predicted total COA in 2020\n",
    "Y[0] = lr.predict(X[0].reshape(-1,1))"
   ]
  },
  {
   "cell_type": "code",
   "execution_count": 52,
   "metadata": {},
   "outputs": [
    {
     "name": "stderr",
     "output_type": "stream",
     "text": [
      "C:\\Users\\richa\\Anaconda3\\lib\\site-packages\\matplotlib\\cbook\\deprecation.py:107: MatplotlibDeprecationWarning: Adding an axes using the same arguments as a previous axes currently reuses the earlier instance.  In a future version, a new instance will always be created and returned.  Meanwhile, this warning can be suppressed, and the future behavior ensured, by passing a unique label to each axes instance.\n",
      "  warnings.warn(message, mplDeprecation, stacklevel=1)\n"
     ]
    },
    {
     "data": {
      "image/png": "[encoded data removed]",
      "text/plain": [
       "<Figure size 432x288 with 1 Axes>"
      ]
     },
     "metadata": {},
     "output_type": "display_data"
    }
   ],
   "source": [
    "adjusted_cost = tuition_data.total_cost / tuition_data.inflation_by2019\n",
    "#OR: adjusted_cost = tuition_data.adjusted_cost\n",
    "\n",
    "Z = adjusted_cost.values.reshape(-1,1)\n",
    "\n",
    "plt.title('U.S. Median Income vs. Total Cost of Attendance at Harvard College')\n",
    "plt.plot(X,Y,color='yellow',linestyle='solid',label='Median Income')\n",
    "plt.plot(X,Z,color='purple',linestyle = 'solid',label = 'Cost of Attendance')\n",
    "\n",
    "ax = plt.subplot()\n",
    "chartBox = ax.get_position(111)\n",
    "ax.set_position([chartBox.x0, chartBox.y0, chartBox.width*0.6, chartBox.height])\n",
    "ax.legend(loc='upper center', bbox_to_anchor=(1.45, 0.8), shadow=True, ncol=1)\n",
    "plt.show()"
   ]
  },
  {
   "cell_type": "code",
   "execution_count": 53,
   "metadata": {},
   "outputs": [],
   "source": [
    "#FUN FACT: It looks like the COA started to exceed the median income of workers in the U.S. circa 2010. Interestingly enough,\n",
    "#Harvard College expanded its investment in undergraduate financial aid to $166 million in need-based scholarships, 10 million\n",
    "#more than the previous year! Beginning in fall 2012, financial aid was also increased for low-income students by raising the\n",
    "#income level under which parents pay nothing towards cost of attendance to $65,000.\n",
    "\n",
    "#Future question worth considering: what will happen if the median income of U.S. workers drops again in the future, further\n",
    "#increasing the gap between the cost of attendance and how much of it families can afford?\n",
    "\n",
    "#Source:https://news.harvard.edu/gazette/story/2011/09/harvards-record-166-million-financial-aid-program-will-increase-aid-to-low-income-students-and-provide-a-new-financial-aid-calculator-for-students-and-families)"
   ]
  }
 ],
 "metadata": {
  "kernelspec": {
   "display_name": "Python 3",
   "language": "python",
   "name": "python3"
  },
  "language_info": {
   "codemirror_mode": {
    "name": "ipython",
    "version": 3
   },
   "file_extension": ".py",
   "mimetype": "text/x-python",
   "name": "python",
   "nbconvert_exporter": "python",
   "pygments_lexer": "ipython3",
   "version": "3.6.5"
  }
 },
 "nbformat": 4,
 "nbformat_minor": 2
}
